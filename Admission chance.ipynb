{
 "cells": [
  {
   "cell_type": "markdown",
   "id": "59ee860c-4d79-44a7-bc71-42b7109ec6ff",
   "metadata": {},
   "source": [
    "Predict the chances of admission of a student to a Graduate program based on:\n",
    "\n",
    "GRE Scores (290 to 340)\n",
    "TOEFL Scores (92 to 120)\n",
    "University Rating (1 to 5)\n",
    "Statement of Purpose (1 to 5)\n",
    "Letter of Recommendation Strength (1 to 5)\n",
    "Undergraduate CGPA (6.8 to 9.92)\n",
    "Research Experience (0 or 1)\n",
    "Chance of Admit (0.34 to 0.97)"
   ]
  },
  {
   "cell_type": "code",
   "execution_count": 1,
   "id": "1cdb245e-361f-4181-a450-9ddf7a638710",
   "metadata": {},
   "outputs": [],
   "source": [
    "import pandas as pd"
   ]
  },
  {
   "cell_type": "code",
   "execution_count": 2,
   "id": "3cbd3bb3-efed-493a-8f6e-906ecd39ef29",
   "metadata": {},
   "outputs": [],
   "source": [
    "admission=pd.read_csv(\"Admission Chance.csv\")"
   ]
  },
  {
   "cell_type": "code",
   "execution_count": 3,
   "id": "989029b8-621f-4a67-87c0-2b04ddb011da",
   "metadata": {},
   "outputs": [
    {
     "data": {
      "text/html": [
       "<div>\n",
       "<style scoped>\n",
       "    .dataframe tbody tr th:only-of-type {\n",
       "        vertical-align: middle;\n",
       "    }\n",
       "\n",
       "    .dataframe tbody tr th {\n",
       "        vertical-align: top;\n",
       "    }\n",
       "\n",
       "    .dataframe thead th {\n",
       "        text-align: right;\n",
       "    }\n",
       "</style>\n",
       "<table border=\"1\" class=\"dataframe\">\n",
       "  <thead>\n",
       "    <tr style=\"text-align: right;\">\n",
       "      <th></th>\n",
       "      <th>Serial No</th>\n",
       "      <th>GRE Score</th>\n",
       "      <th>TOEFL Score</th>\n",
       "      <th>University Rating</th>\n",
       "      <th>SOP</th>\n",
       "      <th>LOR</th>\n",
       "      <th>CGPA</th>\n",
       "      <th>Research</th>\n",
       "      <th>Chance of Admit</th>\n",
       "    </tr>\n",
       "  </thead>\n",
       "  <tbody>\n",
       "    <tr>\n",
       "      <th>0</th>\n",
       "      <td>1</td>\n",
       "      <td>337</td>\n",
       "      <td>118</td>\n",
       "      <td>4</td>\n",
       "      <td>4.5</td>\n",
       "      <td>4.5</td>\n",
       "      <td>9.65</td>\n",
       "      <td>1</td>\n",
       "      <td>0.92</td>\n",
       "    </tr>\n",
       "    <tr>\n",
       "      <th>1</th>\n",
       "      <td>2</td>\n",
       "      <td>324</td>\n",
       "      <td>107</td>\n",
       "      <td>4</td>\n",
       "      <td>4.0</td>\n",
       "      <td>4.5</td>\n",
       "      <td>8.87</td>\n",
       "      <td>1</td>\n",
       "      <td>0.76</td>\n",
       "    </tr>\n",
       "    <tr>\n",
       "      <th>2</th>\n",
       "      <td>3</td>\n",
       "      <td>316</td>\n",
       "      <td>104</td>\n",
       "      <td>3</td>\n",
       "      <td>3.0</td>\n",
       "      <td>3.5</td>\n",
       "      <td>8.00</td>\n",
       "      <td>1</td>\n",
       "      <td>0.72</td>\n",
       "    </tr>\n",
       "    <tr>\n",
       "      <th>3</th>\n",
       "      <td>4</td>\n",
       "      <td>322</td>\n",
       "      <td>110</td>\n",
       "      <td>3</td>\n",
       "      <td>3.5</td>\n",
       "      <td>2.5</td>\n",
       "      <td>8.67</td>\n",
       "      <td>1</td>\n",
       "      <td>0.80</td>\n",
       "    </tr>\n",
       "    <tr>\n",
       "      <th>4</th>\n",
       "      <td>5</td>\n",
       "      <td>314</td>\n",
       "      <td>103</td>\n",
       "      <td>2</td>\n",
       "      <td>2.0</td>\n",
       "      <td>3.0</td>\n",
       "      <td>8.21</td>\n",
       "      <td>0</td>\n",
       "      <td>0.65</td>\n",
       "    </tr>\n",
       "  </tbody>\n",
       "</table>\n",
       "</div>"
      ],
      "text/plain": [
       "   Serial No  GRE Score  TOEFL Score  University Rating   SOP  LOR   CGPA  \\\n",
       "0          1        337          118                  4   4.5   4.5  9.65   \n",
       "1          2        324          107                  4   4.0   4.5  8.87   \n",
       "2          3        316          104                  3   3.0   3.5  8.00   \n",
       "3          4        322          110                  3   3.5   2.5  8.67   \n",
       "4          5        314          103                  2   2.0   3.0  8.21   \n",
       "\n",
       "   Research  Chance of Admit   \n",
       "0         1              0.92  \n",
       "1         1              0.76  \n",
       "2         1              0.72  \n",
       "3         1              0.80  \n",
       "4         0              0.65  "
      ]
     },
     "execution_count": 3,
     "metadata": {},
     "output_type": "execute_result"
    }
   ],
   "source": [
    "admission.head()"
   ]
  },
  {
   "cell_type": "code",
   "execution_count": 4,
   "id": "c8958e81-284f-47a5-aa2c-665a992b9ed8",
   "metadata": {},
   "outputs": [
    {
     "data": {
      "text/plain": [
       "<bound method DataFrame.info of      Serial No  GRE Score  TOEFL Score  University Rating   SOP  LOR   CGPA  \\\n",
       "0            1        337          118                  4   4.5   4.5  9.65   \n",
       "1            2        324          107                  4   4.0   4.5  8.87   \n",
       "2            3        316          104                  3   3.0   3.5  8.00   \n",
       "3            4        322          110                  3   3.5   2.5  8.67   \n",
       "4            5        314          103                  2   2.0   3.0  8.21   \n",
       "..         ...        ...          ...                ...   ...   ...   ...   \n",
       "395        396        324          110                  3   3.5   3.5  9.04   \n",
       "396        397        325          107                  3   3.0   3.5  9.11   \n",
       "397        398        330          116                  4   5.0   4.5  9.45   \n",
       "398        399        312          103                  3   3.5   4.0  8.78   \n",
       "399        400        333          117                  4   5.0   4.0  9.66   \n",
       "\n",
       "     Research  Chance of Admit   \n",
       "0           1              0.92  \n",
       "1           1              0.76  \n",
       "2           1              0.72  \n",
       "3           1              0.80  \n",
       "4           0              0.65  \n",
       "..        ...               ...  \n",
       "395         1              0.82  \n",
       "396         1              0.84  \n",
       "397         1              0.91  \n",
       "398         0              0.67  \n",
       "399         1              0.95  \n",
       "\n",
       "[400 rows x 9 columns]>"
      ]
     },
     "execution_count": 4,
     "metadata": {},
     "output_type": "execute_result"
    }
   ],
   "source": [
    "admission.info"
   ]
  },
  {
   "cell_type": "code",
   "execution_count": 5,
   "id": "1d659684-c8de-4b98-90d1-764ab7f68f8a",
   "metadata": {},
   "outputs": [
    {
     "data": {
      "text/plain": [
       "<bound method NDFrame.describe of      Serial No  GRE Score  TOEFL Score  University Rating   SOP  LOR   CGPA  \\\n",
       "0            1        337          118                  4   4.5   4.5  9.65   \n",
       "1            2        324          107                  4   4.0   4.5  8.87   \n",
       "2            3        316          104                  3   3.0   3.5  8.00   \n",
       "3            4        322          110                  3   3.5   2.5  8.67   \n",
       "4            5        314          103                  2   2.0   3.0  8.21   \n",
       "..         ...        ...          ...                ...   ...   ...   ...   \n",
       "395        396        324          110                  3   3.5   3.5  9.04   \n",
       "396        397        325          107                  3   3.0   3.5  9.11   \n",
       "397        398        330          116                  4   5.0   4.5  9.45   \n",
       "398        399        312          103                  3   3.5   4.0  8.78   \n",
       "399        400        333          117                  4   5.0   4.0  9.66   \n",
       "\n",
       "     Research  Chance of Admit   \n",
       "0           1              0.92  \n",
       "1           1              0.76  \n",
       "2           1              0.72  \n",
       "3           1              0.80  \n",
       "4           0              0.65  \n",
       "..        ...               ...  \n",
       "395         1              0.82  \n",
       "396         1              0.84  \n",
       "397         1              0.91  \n",
       "398         0              0.67  \n",
       "399         1              0.95  \n",
       "\n",
       "[400 rows x 9 columns]>"
      ]
     },
     "execution_count": 5,
     "metadata": {},
     "output_type": "execute_result"
    }
   ],
   "source": [
    "admission.describe"
   ]
  },
  {
   "cell_type": "code",
   "execution_count": 7,
   "id": "7d6c883f-a1e4-4cb5-86ce-6ed81573ddf1",
   "metadata": {},
   "outputs": [
    {
     "data": {
      "text/plain": [
       "Index(['Serial No', 'GRE Score', 'TOEFL Score', 'University Rating', ' SOP',\n",
       "       'LOR ', 'CGPA', 'Research', 'Chance of Admit '],\n",
       "      dtype='object')"
      ]
     },
     "execution_count": 7,
     "metadata": {},
     "output_type": "execute_result"
    }
   ],
   "source": [
    "admission.columns"
   ]
  },
  {
   "cell_type": "code",
   "execution_count": 8,
   "id": "7cc78dd7-ab18-4a1e-b625-c5b2b1d24cf4",
   "metadata": {},
   "outputs": [],
   "source": [
    "y = admission['Chance of Admit ']"
   ]
  },
  {
   "cell_type": "code",
   "execution_count": 9,
   "id": "720236de-339f-4d8f-a2ae-9b963719ade8",
   "metadata": {},
   "outputs": [],
   "source": [
    "X = admission.drop(['Serial No','Chance of Admit '],axis=1)"
   ]
  },
  {
   "cell_type": "code",
   "execution_count": 10,
   "id": "ae9b4fab-d70f-454f-9142-173ed5878bb9",
   "metadata": {},
   "outputs": [],
   "source": [
    "from sklearn.model_selection import train_test_split\n",
    "X_train, X_test, y_train, y_test = train_test_split(X,y, train_size=0.7, random_state=2529)"
   ]
  },
  {
   "cell_type": "code",
   "execution_count": 11,
   "id": "e7279037-41e2-4d6b-8208-c63c78f8eb6e",
   "metadata": {},
   "outputs": [
    {
     "data": {
      "text/plain": [
       "((280, 7), (120, 7), (280,), (120,))"
      ]
     },
     "execution_count": 11,
     "metadata": {},
     "output_type": "execute_result"
    }
   ],
   "source": [
    "X_train.shape, X_test.shape, y_train.shape, y_test.shape"
   ]
  },
  {
   "cell_type": "code",
   "execution_count": 12,
   "id": "fcdc6c46-df4a-42c0-91aa-0dfd9009f454",
   "metadata": {},
   "outputs": [],
   "source": [
    "from sklearn.linear_model import LinearRegression\n",
    "model = LinearRegression()"
   ]
  },
  {
   "cell_type": "code",
   "execution_count": 13,
   "id": "7f599bee-bb80-40a0-a31d-0a8beaa828cf",
   "metadata": {},
   "outputs": [
    {
     "data": {
      "text/html": [
       "<style>#sk-container-id-1 {color: black;background-color: white;}#sk-container-id-1 pre{padding: 0;}#sk-container-id-1 div.sk-toggleable {background-color: white;}#sk-container-id-1 label.sk-toggleable__label {cursor: pointer;display: block;width: 100%;margin-bottom: 0;padding: 0.3em;box-sizing: border-box;text-align: center;}#sk-container-id-1 label.sk-toggleable__label-arrow:before {content: \"▸\";float: left;margin-right: 0.25em;color: #696969;}#sk-container-id-1 label.sk-toggleable__label-arrow:hover:before {color: black;}#sk-container-id-1 div.sk-estimator:hover label.sk-toggleable__label-arrow:before {color: black;}#sk-container-id-1 div.sk-toggleable__content {max-height: 0;max-width: 0;overflow: hidden;text-align: left;background-color: #f0f8ff;}#sk-container-id-1 div.sk-toggleable__content pre {margin: 0.2em;color: black;border-radius: 0.25em;background-color: #f0f8ff;}#sk-container-id-1 input.sk-toggleable__control:checked~div.sk-toggleable__content {max-height: 200px;max-width: 100%;overflow: auto;}#sk-container-id-1 input.sk-toggleable__control:checked~label.sk-toggleable__label-arrow:before {content: \"▾\";}#sk-container-id-1 div.sk-estimator input.sk-toggleable__control:checked~label.sk-toggleable__label {background-color: #d4ebff;}#sk-container-id-1 div.sk-label input.sk-toggleable__control:checked~label.sk-toggleable__label {background-color: #d4ebff;}#sk-container-id-1 input.sk-hidden--visually {border: 0;clip: rect(1px 1px 1px 1px);clip: rect(1px, 1px, 1px, 1px);height: 1px;margin: -1px;overflow: hidden;padding: 0;position: absolute;width: 1px;}#sk-container-id-1 div.sk-estimator {font-family: monospace;background-color: #f0f8ff;border: 1px dotted black;border-radius: 0.25em;box-sizing: border-box;margin-bottom: 0.5em;}#sk-container-id-1 div.sk-estimator:hover {background-color: #d4ebff;}#sk-container-id-1 div.sk-parallel-item::after {content: \"\";width: 100%;border-bottom: 1px solid gray;flex-grow: 1;}#sk-container-id-1 div.sk-label:hover label.sk-toggleable__label {background-color: #d4ebff;}#sk-container-id-1 div.sk-serial::before {content: \"\";position: absolute;border-left: 1px solid gray;box-sizing: border-box;top: 0;bottom: 0;left: 50%;z-index: 0;}#sk-container-id-1 div.sk-serial {display: flex;flex-direction: column;align-items: center;background-color: white;padding-right: 0.2em;padding-left: 0.2em;position: relative;}#sk-container-id-1 div.sk-item {position: relative;z-index: 1;}#sk-container-id-1 div.sk-parallel {display: flex;align-items: stretch;justify-content: center;background-color: white;position: relative;}#sk-container-id-1 div.sk-item::before, #sk-container-id-1 div.sk-parallel-item::before {content: \"\";position: absolute;border-left: 1px solid gray;box-sizing: border-box;top: 0;bottom: 0;left: 50%;z-index: -1;}#sk-container-id-1 div.sk-parallel-item {display: flex;flex-direction: column;z-index: 1;position: relative;background-color: white;}#sk-container-id-1 div.sk-parallel-item:first-child::after {align-self: flex-end;width: 50%;}#sk-container-id-1 div.sk-parallel-item:last-child::after {align-self: flex-start;width: 50%;}#sk-container-id-1 div.sk-parallel-item:only-child::after {width: 0;}#sk-container-id-1 div.sk-dashed-wrapped {border: 1px dashed gray;margin: 0 0.4em 0.5em 0.4em;box-sizing: border-box;padding-bottom: 0.4em;background-color: white;}#sk-container-id-1 div.sk-label label {font-family: monospace;font-weight: bold;display: inline-block;line-height: 1.2em;}#sk-container-id-1 div.sk-label-container {text-align: center;}#sk-container-id-1 div.sk-container {/* jupyter's `normalize.less` sets `[hidden] { display: none; }` but bootstrap.min.css set `[hidden] { display: none !important; }` so we also need the `!important` here to be able to override the default hidden behavior on the sphinx rendered scikit-learn.org. See: https://github.com/scikit-learn/scikit-learn/issues/21755 */display: inline-block !important;position: relative;}#sk-container-id-1 div.sk-text-repr-fallback {display: none;}</style><div id=\"sk-container-id-1\" class=\"sk-top-container\"><div class=\"sk-text-repr-fallback\"><pre>LinearRegression()</pre><b>In a Jupyter environment, please rerun this cell to show the HTML representation or trust the notebook. <br />On GitHub, the HTML representation is unable to render, please try loading this page with nbviewer.org.</b></div><div class=\"sk-container\" hidden><div class=\"sk-item\"><div class=\"sk-estimator sk-toggleable\"><input class=\"sk-toggleable__control sk-hidden--visually\" id=\"sk-estimator-id-1\" type=\"checkbox\" checked><label for=\"sk-estimator-id-1\" class=\"sk-toggleable__label sk-toggleable__label-arrow\">LinearRegression</label><div class=\"sk-toggleable__content\"><pre>LinearRegression()</pre></div></div></div></div></div>"
      ],
      "text/plain": [
       "LinearRegression()"
      ]
     },
     "execution_count": 13,
     "metadata": {},
     "output_type": "execute_result"
    }
   ],
   "source": [
    "model.fit(X_train,y_train)"
   ]
  },
  {
   "cell_type": "code",
   "execution_count": 14,
   "id": "1e2e4d5c-0c7a-405d-bfe0-e0d41f89d78f",
   "metadata": {},
   "outputs": [
    {
     "data": {
      "text/plain": [
       "-1.2831244932033976"
      ]
     },
     "execution_count": 14,
     "metadata": {},
     "output_type": "execute_result"
    }
   ],
   "source": [
    "model.intercept_"
   ]
  },
  {
   "cell_type": "code",
   "execution_count": 15,
   "id": "b1622cdf-9aff-4462-89d7-2817642813c7",
   "metadata": {},
   "outputs": [
    {
     "data": {
      "text/plain": [
       "array([ 0.00204057,  0.00287273,  0.00566887, -0.00380559,  0.01973175,\n",
       "        0.11314449,  0.02061553])"
      ]
     },
     "execution_count": 15,
     "metadata": {},
     "output_type": "execute_result"
    }
   ],
   "source": [
    "model.coef_"
   ]
  },
  {
   "cell_type": "code",
   "execution_count": 16,
   "id": "8fefb142-4e1c-4421-b442-431942fe2092",
   "metadata": {},
   "outputs": [],
   "source": [
    "y_pred = model.predict(X_test)"
   ]
  },
  {
   "cell_type": "code",
   "execution_count": 17,
   "id": "4d04c5a2-aaa4-4862-9475-a42debe16325",
   "metadata": {},
   "outputs": [
    {
     "data": {
      "text/plain": [
       "array([0.71426327, 0.72534136, 0.69677103, 0.66566584, 0.57483872,\n",
       "       0.93087527, 0.93701113, 0.72361387, 0.81130158, 0.62223963,\n",
       "       0.59629648, 0.80084072, 0.52537944, 0.79174558, 0.84064992,\n",
       "       0.66429594, 0.65136589, 0.66990687, 0.75794085, 0.86072023,\n",
       "       0.66088101, 0.85570763, 0.84777425, 0.95033179, 0.68750762,\n",
       "       0.65907671, 0.65279623, 0.5709259 , 0.55895645, 0.57990205,\n",
       "       0.54497918, 0.7570717 , 0.69682571, 0.77286067, 0.64320811,\n",
       "       0.5183554 , 0.43816818, 0.84654064, 0.90398354, 0.80517781,\n",
       "       0.72218971, 0.72882587, 0.68145136, 0.88592237, 0.77208852,\n",
       "       0.78778085, 0.95526121, 0.88586486, 0.59980416, 0.50690214,\n",
       "       0.59947098, 0.63380406, 0.82841217, 0.44911724, 0.71068577,\n",
       "       0.77335748, 0.68851557, 0.64486026, 0.85537724, 0.65517768,\n",
       "       0.65046031, 0.90818978, 0.63422429, 0.68658606, 0.72150268,\n",
       "       0.69030545, 0.59381287, 0.93813035, 0.58997351, 0.91542587,\n",
       "       0.59283415, 0.93351713, 0.59478751, 0.71380389, 0.54346237,\n",
       "       0.84710913, 0.6084418 , 0.7257337 , 0.67545704, 0.81387503,\n",
       "       0.70259527, 0.88600461, 0.67084016, 0.53064995, 0.77790726,\n",
       "       0.65780713, 0.78970635, 0.54709634, 0.77924705, 0.66750436,\n",
       "       0.69363338, 0.69891086, 0.92185813, 0.70469056, 0.62554306,\n",
       "       0.62208829, 0.73828086, 0.67369114, 0.76391913, 0.61985049,\n",
       "       0.92865957, 0.70430038, 0.9828821 , 0.82502993, 0.78261009,\n",
       "       0.83438446, 0.66840368, 0.70165011, 0.64534281, 0.5715406 ,\n",
       "       0.80739359, 0.69273815, 0.80585447, 0.6102703 , 0.54641206,\n",
       "       0.76301749, 0.71080317, 0.6261331 , 0.83951248, 0.68578269])"
      ]
     },
     "execution_count": 17,
     "metadata": {},
     "output_type": "execute_result"
    }
   ],
   "source": [
    "y_pred"
   ]
  },
  {
   "cell_type": "code",
   "execution_count": 18,
   "id": "7b5cd051-e399-436d-934c-047703558898",
   "metadata": {},
   "outputs": [
    {
     "data": {
      "text/plain": [
       "0.04400128934232653"
      ]
     },
     "execution_count": 18,
     "metadata": {},
     "output_type": "execute_result"
    }
   ],
   "source": [
    "from sklearn.metrics import mean_absolute_error, mean_absolute_percentage_error, mean_squared_error\n",
    "mean_absolute_error(y_test,y_pred)"
   ]
  },
  {
   "cell_type": "code",
   "execution_count": 19,
   "id": "b2efb357-89cf-4ad8-81db-fff7b58cf8bc",
   "metadata": {},
   "outputs": [
    {
     "data": {
      "text/plain": [
       "0.07575278864605443"
      ]
     },
     "execution_count": 19,
     "metadata": {},
     "output_type": "execute_result"
    }
   ],
   "source": [
    "mean_absolute_percentage_error(y_test,y_pred)"
   ]
  },
  {
   "cell_type": "code",
   "execution_count": 20,
   "id": "ee93a4cd-f09f-45ed-857e-d124cc18cb29",
   "metadata": {},
   "outputs": [
    {
     "data": {
      "text/plain": [
       "0.004038263715495697"
      ]
     },
     "execution_count": 20,
     "metadata": {},
     "output_type": "execute_result"
    }
   ],
   "source": [
    "mean_squared_error(y_test,y_pred)"
   ]
  }
 ],
 "metadata": {
  "kernelspec": {
   "display_name": "Python 3 (ipykernel)",
   "language": "python",
   "name": "python3"
  },
  "language_info": {
   "codemirror_mode": {
    "name": "ipython",
    "version": 3
   },
   "file_extension": ".py",
   "mimetype": "text/x-python",
   "name": "python",
   "nbconvert_exporter": "python",
   "pygments_lexer": "ipython3",
   "version": "3.11.7"
  }
 },
 "nbformat": 4,
 "nbformat_minor": 5
}
